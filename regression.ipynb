{
 "cells": [
  {
   "cell_type": "code",
   "execution_count": 1,
   "id": "c309de41",
   "metadata": {},
   "outputs": [],
   "source": [
    "import pandas as pd\n",
    "import ast\n",
    "import seaborn as sns\n",
    "import requests\n",
    "import matplotlib.pyplot as plt\n",
    "import numpy as np\n"
   ]
  },
  {
   "cell_type": "code",
   "execution_count": 2,
   "id": "9ae83fff",
   "metadata": {},
   "outputs": [],
   "source": [
    "bec_results = pd.read_csv('cast_bechdel_results.csv')"
   ]
  },
  {
   "cell_type": "code",
   "execution_count": 9,
   "id": "14a1b713",
   "metadata": {},
   "outputs": [
    {
     "data": {
      "text/plain": [
       "0       1919\n",
       "1       1920\n",
       "2       1921\n",
       "3       1921\n",
       "4       1922\n",
       "        ... \n",
       "4220    2017\n",
       "4221    2017\n",
       "4222    2017\n",
       "4223    2016\n",
       "4224    2017\n",
       "Name: release_date, Length: 4225, dtype: int64"
      ]
     },
     "execution_count": 9,
     "metadata": {},
     "output_type": "execute_result"
    }
   ],
   "source": [
    "bec_results['release_date']"
   ]
  },
  {
   "cell_type": "code",
   "execution_count": 5,
   "id": "a9830e67",
   "metadata": {},
   "outputs": [],
   "source": [
    "bec_results['passes_test'] = np.where(bec_results['rating'] == 3, \"Passes\", \"Fails\")\n",
    "bec_results['passes_test_binary'] = np.where(bec_results['passes_test'] == \"Passes\", 1, 0)"
   ]
  },
  {
   "cell_type": "code",
   "execution_count": 7,
   "id": "ab34d45f",
   "metadata": {},
   "outputs": [],
   "source": [
    "from sklearn.linear_model import LogisticRegression\n",
    "from sklearn.preprocessing import StandardScaler\n",
    "from sklearn.model_selection import train_test_split"
   ]
  },
  {
   "cell_type": "code",
   "execution_count": 10,
   "id": "93d53de4",
   "metadata": {},
   "outputs": [
    {
     "name": "stdout",
     "output_type": "stream",
     "text": [
      "Selected features:\n",
      "avg_cast_gender         -0.926474\n",
      "writing_avg_gender      -0.380830\n",
      "Horror                   0.226673\n",
      "year                     0.128687\n",
      "Family                   0.103722\n",
      "Drama                   -0.090108\n",
      "Action                  -0.082590\n",
      "Crime                   -0.082566\n",
      "directing_avg_gender    -0.059826\n",
      "Thriller                -0.053512\n",
      "runtime                  0.047785\n",
      "Fantasy                  0.041832\n",
      "Mystery                  0.035888\n",
      "Romance                  0.032904\n",
      "Western                 -0.031887\n",
      "History                  0.029380\n",
      "Adventure               -0.029146\n",
      "Comedy                  -0.025006\n",
      "TV Movie                 0.019805\n",
      "Foreign                  0.018233\n",
      "production_avg_gender   -0.011765\n",
      "Animation               -0.011534\n",
      "War                     -0.010251\n",
      "Music                    0.004866\n",
      "dtype: float64\n"
     ]
    }
   ],
   "source": [
    "X = bec_results[['year', 'runtime',\n",
    "        'Western', 'Romance', 'War', 'Crime', 'TV Movie',\n",
    "       'Foreign', 'History', 'Thriller', 'Action', 'Horror', 'Fantasy',\n",
    "       'Animation', 'Adventure', 'Mystery', 'Drama', 'Family', 'Music',\n",
    "       'Comedy', 'avg_cast_gender', 'directing_avg_gender',\n",
    "       'production_avg_gender', 'writing_avg_gender']]  # predictors\n",
    "y = bec_results['passes_test_binary']  # binary target\n",
    "\n",
    "# Step 1: Standardize features\n",
    "scaler = StandardScaler()\n",
    "X_scaled = scaler.fit_transform(X)\n",
    "\n",
    "# Step 2: Train/test split (optional, good for evaluation)\n",
    "X_train, X_test, y_train, y_test = train_test_split(X_scaled, y, test_size=0.2, random_state=42)\n",
    "\n",
    "# Step 3: Fit L1 logistic regression\n",
    "model = LogisticRegression(penalty='l1', solver='liblinear', C=1.0)  # C is inverse of regularization strength\n",
    "model.fit(X_train, y_train)\n",
    "\n",
    "# Step 4: Get important features\n",
    "coef = model.coef_[0]\n",
    "feature_names = X.columns\n",
    "important_features = pd.Series(coef, index=feature_names)\n",
    "selected_features = important_features[important_features != 0]\n",
    "\n",
    "print(\"Selected features:\")\n",
    "print(selected_features.sort_values(key=abs, ascending=False))"
   ]
  },
  {
   "cell_type": "code",
   "execution_count": 12,
   "id": "7fff8e24",
   "metadata": {},
   "outputs": [
    {
     "name": "stdout",
     "output_type": "stream",
     "text": [
      "Features excluded (coef = 0):\n",
      "Series([], dtype: float64)\n"
     ]
    }
   ],
   "source": [
    "coefficients = model.coef_[0]  # for binary classification, it's a 1D array\n",
    "\n",
    "# Create a Pandas Series for easy inspection\n",
    "coef_series = pd.Series(coefficients, index=feature_names)\n",
    "\n",
    "\n",
    "excluded_features = coef_series[coef_series == 0.0]\n",
    "print(\"Features excluded (coef = 0):\")\n",
    "print(excluded_features)"
   ]
  }
 ],
 "metadata": {
  "kernelspec": {
   "display_name": "base",
   "language": "python",
   "name": "python3"
  },
  "language_info": {
   "codemirror_mode": {
    "name": "ipython",
    "version": 3
   },
   "file_extension": ".py",
   "mimetype": "text/x-python",
   "name": "python",
   "nbconvert_exporter": "python",
   "pygments_lexer": "ipython3",
   "version": "3.12.7"
  }
 },
 "nbformat": 4,
 "nbformat_minor": 5
}
